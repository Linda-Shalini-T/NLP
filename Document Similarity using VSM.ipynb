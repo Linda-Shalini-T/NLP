{
 "cells": [
  {
   "cell_type": "code",
   "execution_count": 1,
   "id": "d07349a0-a496-4096-a873-3a928db3b801",
   "metadata": {},
   "outputs": [
    {
     "name": "stdout",
     "output_type": "stream",
     "text": [
      "Cosine Similarity: 0.30412574187549357\n"
     ]
    }
   ],
   "source": [
    "from sklearn.feature_extraction.text import TfidfVectorizer\n",
    "from sklearn.metrics.pairwise import cosine_similarity\n",
    "text1 = \"Data Science is an interesting field.\"\n",
    "text2 = \"Machine Learning is a part of Data Science.\"\n",
    "vectorizer = TfidfVectorizer()\n",
    "X = vectorizer.fit_transform([text1, text2])\n",
    "similarity = cosine_similarity(X[0:1], X[1:2])\n",
    "print(\"Cosine Similarity:\", similarity[0][0])"
   ]
  },
  {
   "cell_type": "code",
   "execution_count": 3,
   "id": "08e01eb3-a0f4-46a3-b1fe-bca6de6e044c",
   "metadata": {},
   "outputs": [
    {
     "name": "stdout",
     "output_type": "stream",
     "text": [
      "Jaccard Similarity: 0.07692307692307693\n"
     ]
    }
   ],
   "source": [
    "text1 = \"Data Science involves statistics and programming.\"\n",
    "text2 = \"Programming in Python is essential for Data Science.\"\n",
    "set1 = set(text1.lower().split())\n",
    "set2 = set(text2.lower().split())\n",
    "\n",
    "intersection = set1.intersection(set2)\n",
    "union = set1.union(set2)\n",
    "jaccard_similarity = len(intersection) / len(union)\n",
    "print(\"Jaccard Similarity:\", jaccard_similarity)"
   ]
  },
  {
   "cell_type": "code",
   "execution_count": null,
   "id": "629241a5-c133-41f5-bf94-0a0c8df4ec53",
   "metadata": {},
   "outputs": [],
   "source": []
  }
 ],
 "metadata": {
  "kernelspec": {
   "display_name": "Python 3 (ipykernel)",
   "language": "python",
   "name": "python3"
  },
  "language_info": {
   "codemirror_mode": {
    "name": "ipython",
    "version": 3
   },
   "file_extension": ".py",
   "mimetype": "text/x-python",
   "name": "python",
   "nbconvert_exporter": "python",
   "pygments_lexer": "ipython3",
   "version": "3.12.4"
  }
 },
 "nbformat": 4,
 "nbformat_minor": 5
}
