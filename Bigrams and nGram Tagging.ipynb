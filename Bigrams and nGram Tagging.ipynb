{
 "cells": [
  {
   "cell_type": "code",
   "execution_count": 1,
   "id": "50ac7c3f-bfcb-446a-bd0b-9ffeb900fe34",
   "metadata": {},
   "outputs": [
    {
     "name": "stdout",
     "output_type": "stream",
     "text": [
      "Bigrams: [('NLP', 'is'), ('is', 'amazing'), ('amazing', '.')]\n"
     ]
    }
   ],
   "source": [
    "import nltk\n",
    "from nltk import bigrams\n",
    "text = \"NLP is amazing.\"\n",
    "tokens = nltk.word_tokenize(text)\n",
    "bigrams_list = list(bigrams(tokens))\n",
    "print(\"Bigrams:\", bigrams_list)"
   ]
  },
  {
   "cell_type": "code",
   "execution_count": 3,
   "id": "c608a5fb-8183-45f6-bd31-c52f91ed7bc2",
   "metadata": {},
   "outputs": [
    {
     "name": "stdout",
     "output_type": "stream",
     "text": [
      "Trigrams: [('NLP', 'makes', 'machines'), ('makes', 'machines', 'understand'), ('machines', 'understand', 'language'), ('understand', 'language', '.')]\n"
     ]
    }
   ],
   "source": [
    "from nltk.util import ngrams\n",
    "text = \"NLP makes machines understand language.\"\n",
    "tokens = nltk.word_tokenize(text)\n",
    "trigrams_list = list(ngrams(tokens, 3))\n",
    "print(\"Trigrams:\", trigrams_list)"
   ]
  },
  {
   "cell_type": "code",
   "execution_count": null,
   "id": "d7387fa7-ff6b-4671-997d-f764b0e34361",
   "metadata": {},
   "outputs": [],
   "source": []
  }
 ],
 "metadata": {
  "kernelspec": {
   "display_name": "Python 3 (ipykernel)",
   "language": "python",
   "name": "python3"
  },
  "language_info": {
   "codemirror_mode": {
    "name": "ipython",
    "version": 3
   },
   "file_extension": ".py",
   "mimetype": "text/x-python",
   "name": "python",
   "nbconvert_exporter": "python",
   "pygments_lexer": "ipython3",
   "version": "3.12.4"
  }
 },
 "nbformat": 4,
 "nbformat_minor": 5
}
